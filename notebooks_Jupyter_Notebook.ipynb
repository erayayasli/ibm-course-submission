{
  "metadata": {
    "kernelspec": {
      "name": "python",
      "display_name": "Python (Pyodide)",
      "language": "python"
    },
    "language_info": {
      "codemirror_mode": {
        "name": "python",
        "version": 3
      },
      "file_extension": ".py",
      "mimetype": "text/x-python",
      "name": "python",
      "nbconvert_exporter": "python",
      "pygments_lexer": "ipython3",
      "version": "3.8"
    }
  },
  "nbformat_minor": 4,
  "nbformat": 4,
  "cells": [
    {
      "cell_type": "markdown",
      "source": "<center>\n    <img src=\"https://s3-api.us-geo.objectstorage.softlayer.net/cf-courses-data/CognitiveClass/Logos/organization_logo/organization_logo.png\" width=\"300\" alt=\"cognitiveclass.ai logo\"  />\n</center>\n",
      "metadata": {}
    },
    {
      "cell_type": "markdown",
      "source": "#### Add your code below following the instructions given in the course\n",
      "metadata": {}
    },
    {
      "cell_type": "markdown",
      "source": "# My Jupyter Notebook on IBM Watson Studio",
      "metadata": {}
    },
    {
      "cell_type": "markdown",
      "source": " <b> Eray Ayaşlı </b>",
      "metadata": {}
    },
    {
      "cell_type": "markdown",
      "source": "Travelllerrrr",
      "metadata": {}
    },
    {
      "cell_type": "markdown",
      "source": "<i> I am interested data science because i don't understand how time flies when dealing with it </i>",
      "metadata": {}
    },
    {
      "cell_type": "markdown",
      "source": "<h3> This code sum even number between 1 and 100 </h3>",
      "metadata": {}
    },
    {
      "cell_type": "code",
      "source": "sum = 0\nfor i in range(100):\n    if (i % 2 == 0):\n        sum += i\nprint(sum)",
      "metadata": {
        "trusted": true
      },
      "execution_count": 4,
      "outputs": [
        {
          "name": "stdout",
          "text": "2450\n",
          "output_type": "stream"
        }
      ]
    },
    {
      "cell_type": "markdown",
      "source": "[This is my linkedin acc](https://www.linkedin.com/in/erayayasli/)\n<hr />\n\n* one\n* two\n* three\n4. four\n5. five",
      "metadata": {}
    }
  ]
}